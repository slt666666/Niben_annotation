{
  "nbformat": 4,
  "nbformat_minor": 0,
  "metadata": {
    "colab": {
      "provenance": []
    },
    "kernelspec": {
      "name": "python3",
      "display_name": "Python 3"
    },
    "language_info": {
      "name": "python"
    }
  },
  "cells": [
    {
      "cell_type": "markdown",
      "source": [
        "# Niben262の遺伝子機能アノテーション情報取得\n",
        "\n",
        "各灰色のボックスの左側の実行ボタンを順に押していってください。\n",
        "\n",
        "必要なファイル\n",
        "\n",
        "\n",
        "*   Niben262とNbe.v1.1の対応表(お渡しするNiben261_to_Nbe.v1.1_annotation.csv)\n",
        "*   Nbe.v1.1での機能アノテーションを知りたいNiben262の遺伝子リスト(お渡しするtest.txtの様な形で遺伝子名を縦に並べたテキストファイル、遺伝子のidはNiben261Chr01g0001004でもNiben261Chr01g0001004.1でも可)\n",
        "\n"
      ],
      "metadata": {
        "id": "s52U6NVu2S3c"
      }
    },
    {
      "cell_type": "code",
      "execution_count": null,
      "metadata": {
        "id": "5XXVl4L01NeW"
      },
      "outputs": [],
      "source": [
        "#@title Niben262とNbe.v1.1の対応表をアップロードする\n",
        "from google.colab import files\n",
        "files = files.upload()\n",
        "Annotation_file = list(files.keys())[0]"
      ]
    },
    {
      "cell_type": "code",
      "source": [
        "#@title 機能のannotationを知りたいNiben262のgene idリストをアップロードする\n",
        "from google.colab import files\n",
        "files = files.upload()\n",
        "gene_list_file = list(files.keys())[0]"
      ],
      "metadata": {
        "id": "cQCCdn6X2vN3"
      },
      "execution_count": null,
      "outputs": []
    },
    {
      "cell_type": "code",
      "source": [
        "#@title アップロードした遺伝子リストのBLASTベースで探したNbe.v1.1アノテーション情報を取得\n",
        "import pandas as pd\n",
        "\n",
        "annotations = pd.read_csv(Annotation_file, index_col=0)\n",
        "gene_list = pd.read_csv(gene_list_file, header=None).iloc[:, 0].values\n",
        "gene_list = [i[:i.rfind(\".\")] if i.rfind(\".\") > 0 else i for i in gene_list]\n",
        "annotations = annotations[annotations.iloc[:, 0].str.contains(\"|\".join(gene_list))].to_csv(\"target_annotations.csv\")"
      ],
      "metadata": {
        "id": "X-xU7ZTs333N"
      },
      "execution_count": null,
      "outputs": []
    },
    {
      "cell_type": "code",
      "source": [
        "#@title 結果をダウンロード\n",
        "from google.colab import files\n",
        "files.download(\"target_annotations.csv\")"
      ],
      "metadata": {
        "id": "j51BLZSq4JqJ"
      },
      "execution_count": null,
      "outputs": []
    },
    {
      "cell_type": "code",
      "source": [],
      "metadata": {
        "id": "VbAWyzit6VUf"
      },
      "execution_count": null,
      "outputs": []
    }
  ]
}